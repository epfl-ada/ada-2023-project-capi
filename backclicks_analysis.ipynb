{
 "cells": [
  {
   "cell_type": "code",
   "execution_count": 4,
   "metadata": {},
   "outputs": [],
   "source": [
    "import pandas as pd\n",
    "import networkx as nx\n",
    "import numpy as np\n",
    "import os\n",
    "import urllib\n",
    "import datetime as datetime\n",
    "import matplotlib.pyplot as plt\n",
    "import seaborn as sns\n",
    "from collections import Counter\n",
    "from scipy import stats \n",
    "\n",
    "# load config and extract variables\n",
    "import config\n",
    "DATA_PATH = config.PATH_TO_DATA"
   ]
  },
  {
   "cell_type": "markdown",
   "metadata": {},
   "source": [
    "### Loading and Preparing the Data\n",
    "Load and clean up the paths, load into weighted graph structure etc."
   ]
  },
  {
   "cell_type": "markdown",
   "metadata": {},
   "source": [
    "#### Load Data"
   ]
  },
  {
   "cell_type": "code",
   "execution_count": 5,
   "metadata": {},
   "outputs": [],
   "source": [
    "# load in all data (except wikipedia articles)\n",
    "finished_paths = pd.read_csv(os.path.join(DATA_PATH, \"wikispeedia_paths-and-graph/paths_finished.tsv\"), sep='\\t', skiprows=15, names=[\"hashedIpAddress\", \"timestamp\", \"durationInSec\", \"path\", \"rating\"])\n",
    "unfinished_paths = pd.read_csv(os.path.join(DATA_PATH, \"wikispeedia_paths-and-graph/paths_unfinished.tsv\"), sep='\\t', skiprows=16, names=[\"hashedIpAddress\", \"timestamp\", \"durationInSec\", \"path\", \"target\", \"type\"])\n",
    "edges = pd.read_csv(os.path.join(DATA_PATH, \"wikispeedia_paths-and-graph/links.tsv\"), sep='\\t', skiprows=15, names=[\"start\", \"end\"], encoding=\"utf-8\")\n",
    "articles = pd.read_csv(os.path.join(DATA_PATH, \"wikispeedia_paths-and-graph/articles.tsv\"), sep='\\t', skiprows=12, names=[\"article\"], encoding=\"utf-8\")\n",
    "categories = pd.read_csv(os.path.join(DATA_PATH, \"wikispeedia_paths-and-graph/categories.tsv\"), sep='\\t', skiprows=13, names=[\"article\", \"category\"], encoding=\"utf-8\")\n",
    "shortest_paths = np.genfromtxt(os.path.join(DATA_PATH, \"wikispeedia_paths-and-graph/shortest-path-distance-matrix.txt\"), delimiter=1, dtype=np.uint8)"
   ]
  },
  {
   "cell_type": "markdown",
   "metadata": {},
   "source": [
    "#### Clean up"
   ]
  },
  {
   "cell_type": "code",
   "execution_count": 6,
   "metadata": {},
   "outputs": [
    {
     "data": {
      "text/html": [
       "<div>\n",
       "<style scoped>\n",
       "    .dataframe tbody tr th:only-of-type {\n",
       "        vertical-align: middle;\n",
       "    }\n",
       "\n",
       "    .dataframe tbody tr th {\n",
       "        vertical-align: top;\n",
       "    }\n",
       "\n",
       "    .dataframe thead th {\n",
       "        text-align: right;\n",
       "    }\n",
       "</style>\n",
       "<table border=\"1\" class=\"dataframe\">\n",
       "  <thead>\n",
       "    <tr style=\"text-align: right;\">\n",
       "      <th></th>\n",
       "      <th>start</th>\n",
       "      <th>end</th>\n",
       "    </tr>\n",
       "  </thead>\n",
       "  <tbody>\n",
       "    <tr>\n",
       "      <th>0</th>\n",
       "      <td>%C3%81ed%C3%A1n_mac_Gabr%C3%A1in</td>\n",
       "      <td>Great_Britain</td>\n",
       "    </tr>\n",
       "    <tr>\n",
       "      <th>1</th>\n",
       "      <td>%C3%81ed%C3%A1n_mac_Gabr%C3%A1in</td>\n",
       "      <td>Ireland</td>\n",
       "    </tr>\n",
       "    <tr>\n",
       "      <th>2</th>\n",
       "      <td>%C3%81ed%C3%A1n_mac_Gabr%C3%A1in</td>\n",
       "      <td>Isle_of_Man</td>\n",
       "    </tr>\n",
       "    <tr>\n",
       "      <th>3</th>\n",
       "      <td>%C3%81ed%C3%A1n_mac_Gabr%C3%A1in</td>\n",
       "      <td>Monarchy</td>\n",
       "    </tr>\n",
       "    <tr>\n",
       "      <th>4</th>\n",
       "      <td>%C3%81ed%C3%A1n_mac_Gabr%C3%A1in</td>\n",
       "      <td>Orkney</td>\n",
       "    </tr>\n",
       "  </tbody>\n",
       "</table>\n",
       "</div>"
      ],
      "text/plain": [
       "                              start            end\n",
       "0  %C3%81ed%C3%A1n_mac_Gabr%C3%A1in  Great_Britain\n",
       "1  %C3%81ed%C3%A1n_mac_Gabr%C3%A1in        Ireland\n",
       "2  %C3%81ed%C3%A1n_mac_Gabr%C3%A1in    Isle_of_Man\n",
       "3  %C3%81ed%C3%A1n_mac_Gabr%C3%A1in       Monarchy\n",
       "4  %C3%81ed%C3%A1n_mac_Gabr%C3%A1in         Orkney"
      ]
     },
     "metadata": {},
     "output_type": "display_data"
    },
    {
     "data": {
      "text/html": [
       "<div>\n",
       "<style scoped>\n",
       "    .dataframe tbody tr th:only-of-type {\n",
       "        vertical-align: middle;\n",
       "    }\n",
       "\n",
       "    .dataframe tbody tr th {\n",
       "        vertical-align: top;\n",
       "    }\n",
       "\n",
       "    .dataframe thead th {\n",
       "        text-align: right;\n",
       "    }\n",
       "</style>\n",
       "<table border=\"1\" class=\"dataframe\">\n",
       "  <thead>\n",
       "    <tr style=\"text-align: right;\">\n",
       "      <th></th>\n",
       "      <th>start</th>\n",
       "      <th>end</th>\n",
       "    </tr>\n",
       "  </thead>\n",
       "  <tbody>\n",
       "    <tr>\n",
       "      <th>0</th>\n",
       "      <td>Áedán_mac_Gabráin</td>\n",
       "      <td>Great_Britain</td>\n",
       "    </tr>\n",
       "    <tr>\n",
       "      <th>1</th>\n",
       "      <td>Áedán_mac_Gabráin</td>\n",
       "      <td>Ireland</td>\n",
       "    </tr>\n",
       "    <tr>\n",
       "      <th>2</th>\n",
       "      <td>Áedán_mac_Gabráin</td>\n",
       "      <td>Isle_of_Man</td>\n",
       "    </tr>\n",
       "    <tr>\n",
       "      <th>3</th>\n",
       "      <td>Áedán_mac_Gabráin</td>\n",
       "      <td>Monarchy</td>\n",
       "    </tr>\n",
       "    <tr>\n",
       "      <th>4</th>\n",
       "      <td>Áedán_mac_Gabráin</td>\n",
       "      <td>Orkney</td>\n",
       "    </tr>\n",
       "  </tbody>\n",
       "</table>\n",
       "</div>"
      ],
      "text/plain": [
       "               start            end\n",
       "0  Áedán_mac_Gabráin  Great_Britain\n",
       "1  Áedán_mac_Gabráin        Ireland\n",
       "2  Áedán_mac_Gabráin    Isle_of_Man\n",
       "3  Áedán_mac_Gabráin       Monarchy\n",
       "4  Áedán_mac_Gabráin         Orkney"
      ]
     },
     "metadata": {},
     "output_type": "display_data"
    }
   ],
   "source": [
    "# Clean up edge list\n",
    "display(edges.head())\n",
    "edges[\"start\"] = edges.start.apply(urllib.parse.unquote)\n",
    "edges[\"end\"] = edges.end.apply(urllib.parse.unquote)\n",
    "display(edges.head())"
   ]
  },
  {
   "cell_type": "code",
   "execution_count": 7,
   "metadata": {},
   "outputs": [
    {
     "data": {
      "text/html": [
       "<div>\n",
       "<style scoped>\n",
       "    .dataframe tbody tr th:only-of-type {\n",
       "        vertical-align: middle;\n",
       "    }\n",
       "\n",
       "    .dataframe tbody tr th {\n",
       "        vertical-align: top;\n",
       "    }\n",
       "\n",
       "    .dataframe thead th {\n",
       "        text-align: right;\n",
       "    }\n",
       "</style>\n",
       "<table border=\"1\" class=\"dataframe\">\n",
       "  <thead>\n",
       "    <tr style=\"text-align: right;\">\n",
       "      <th></th>\n",
       "      <th>hashedIpAddress</th>\n",
       "      <th>timestamp</th>\n",
       "      <th>durationInSec</th>\n",
       "      <th>path</th>\n",
       "      <th>target</th>\n",
       "      <th>type</th>\n",
       "      <th>datetime</th>\n",
       "    </tr>\n",
       "  </thead>\n",
       "  <tbody>\n",
       "    <tr>\n",
       "      <th>0</th>\n",
       "      <td>2426091a53125110</td>\n",
       "      <td>1297054935</td>\n",
       "      <td>1804</td>\n",
       "      <td>Obi-Wan_Kenobi</td>\n",
       "      <td>Microsoft</td>\n",
       "      <td>timeout</td>\n",
       "      <td>2011-02-07 06:02:15</td>\n",
       "    </tr>\n",
       "    <tr>\n",
       "      <th>1</th>\n",
       "      <td>26141fd878806294</td>\n",
       "      <td>1297055651</td>\n",
       "      <td>1805</td>\n",
       "      <td>Julius_Caesar</td>\n",
       "      <td>Caracas</td>\n",
       "      <td>timeout</td>\n",
       "      <td>2011-02-07 06:14:11</td>\n",
       "    </tr>\n",
       "    <tr>\n",
       "      <th>2</th>\n",
       "      <td>2b015fb8181c48f2</td>\n",
       "      <td>1297090819</td>\n",
       "      <td>1818</td>\n",
       "      <td>Malawi;Democracy;Alexander_the_Great</td>\n",
       "      <td>First_Crusade</td>\n",
       "      <td>timeout</td>\n",
       "      <td>2011-02-07 16:00:19</td>\n",
       "    </tr>\n",
       "    <tr>\n",
       "      <th>3</th>\n",
       "      <td>53a53bc244e08a6a</td>\n",
       "      <td>1297094761</td>\n",
       "      <td>49</td>\n",
       "      <td>Paraguay</td>\n",
       "      <td>Mount_St._Helens</td>\n",
       "      <td>restart</td>\n",
       "      <td>2011-02-07 17:06:01</td>\n",
       "    </tr>\n",
       "    <tr>\n",
       "      <th>4</th>\n",
       "      <td>53a53bc244e08a6a</td>\n",
       "      <td>1297099105</td>\n",
       "      <td>1808</td>\n",
       "      <td>Paraguay;Bolivia</td>\n",
       "      <td>Mount_St._Helens</td>\n",
       "      <td>timeout</td>\n",
       "      <td>2011-02-07 18:18:25</td>\n",
       "    </tr>\n",
       "  </tbody>\n",
       "</table>\n",
       "</div>"
      ],
      "text/plain": [
       "    hashedIpAddress   timestamp  durationInSec  \\\n",
       "0  2426091a53125110  1297054935           1804   \n",
       "1  26141fd878806294  1297055651           1805   \n",
       "2  2b015fb8181c48f2  1297090819           1818   \n",
       "3  53a53bc244e08a6a  1297094761             49   \n",
       "4  53a53bc244e08a6a  1297099105           1808   \n",
       "\n",
       "                                   path            target     type  \\\n",
       "0                        Obi-Wan_Kenobi         Microsoft  timeout   \n",
       "1                         Julius_Caesar           Caracas  timeout   \n",
       "2  Malawi;Democracy;Alexander_the_Great     First_Crusade  timeout   \n",
       "3                              Paraguay  Mount_St._Helens  restart   \n",
       "4                      Paraguay;Bolivia  Mount_St._Helens  timeout   \n",
       "\n",
       "             datetime  \n",
       "0 2011-02-07 06:02:15  \n",
       "1 2011-02-07 06:14:11  \n",
       "2 2011-02-07 16:00:19  \n",
       "3 2011-02-07 17:06:01  \n",
       "4 2011-02-07 18:18:25  "
      ]
     },
     "metadata": {},
     "output_type": "display_data"
    }
   ],
   "source": [
    "# format datetime as datetime object\n",
    "finished_paths[\"datetime\"] = finished_paths.timestamp.apply(datetime.datetime.fromtimestamp)\n",
    "unfinished_paths[\"datetime\"] = unfinished_paths.timestamp.apply(datetime.datetime.fromtimestamp)\n",
    "display(unfinished_paths.head())"
   ]
  },
  {
   "cell_type": "code",
   "execution_count": 8,
   "metadata": {},
   "outputs": [
    {
     "data": {
      "text/html": [
       "<div>\n",
       "<style scoped>\n",
       "    .dataframe tbody tr th:only-of-type {\n",
       "        vertical-align: middle;\n",
       "    }\n",
       "\n",
       "    .dataframe tbody tr th {\n",
       "        vertical-align: top;\n",
       "    }\n",
       "\n",
       "    .dataframe thead th {\n",
       "        text-align: right;\n",
       "    }\n",
       "</style>\n",
       "<table border=\"1\" class=\"dataframe\">\n",
       "  <thead>\n",
       "    <tr style=\"text-align: right;\">\n",
       "      <th></th>\n",
       "      <th>article</th>\n",
       "    </tr>\n",
       "  </thead>\n",
       "  <tbody>\n",
       "    <tr>\n",
       "      <th>0</th>\n",
       "      <td>%C3%81ed%C3%A1n_mac_Gabr%C3%A1in</td>\n",
       "    </tr>\n",
       "    <tr>\n",
       "      <th>1</th>\n",
       "      <td>%C3%85land</td>\n",
       "    </tr>\n",
       "    <tr>\n",
       "      <th>2</th>\n",
       "      <td>%C3%89douard_Manet</td>\n",
       "    </tr>\n",
       "    <tr>\n",
       "      <th>3</th>\n",
       "      <td>%C3%89ire</td>\n",
       "    </tr>\n",
       "    <tr>\n",
       "      <th>4</th>\n",
       "      <td>%C3%93engus_I_of_the_Picts</td>\n",
       "    </tr>\n",
       "  </tbody>\n",
       "</table>\n",
       "</div>"
      ],
      "text/plain": [
       "                            article\n",
       "0  %C3%81ed%C3%A1n_mac_Gabr%C3%A1in\n",
       "1                        %C3%85land\n",
       "2                %C3%89douard_Manet\n",
       "3                         %C3%89ire\n",
       "4        %C3%93engus_I_of_the_Picts"
      ]
     },
     "metadata": {},
     "output_type": "display_data"
    },
    {
     "data": {
      "text/html": [
       "<div>\n",
       "<style scoped>\n",
       "    .dataframe tbody tr th:only-of-type {\n",
       "        vertical-align: middle;\n",
       "    }\n",
       "\n",
       "    .dataframe tbody tr th {\n",
       "        vertical-align: top;\n",
       "    }\n",
       "\n",
       "    .dataframe thead th {\n",
       "        text-align: right;\n",
       "    }\n",
       "</style>\n",
       "<table border=\"1\" class=\"dataframe\">\n",
       "  <thead>\n",
       "    <tr style=\"text-align: right;\">\n",
       "      <th></th>\n",
       "      <th>article</th>\n",
       "    </tr>\n",
       "  </thead>\n",
       "  <tbody>\n",
       "    <tr>\n",
       "      <th>0</th>\n",
       "      <td>Áedán_mac_Gabráin</td>\n",
       "    </tr>\n",
       "    <tr>\n",
       "      <th>1</th>\n",
       "      <td>Åland</td>\n",
       "    </tr>\n",
       "    <tr>\n",
       "      <th>2</th>\n",
       "      <td>Édouard_Manet</td>\n",
       "    </tr>\n",
       "    <tr>\n",
       "      <th>3</th>\n",
       "      <td>Éire</td>\n",
       "    </tr>\n",
       "    <tr>\n",
       "      <th>4</th>\n",
       "      <td>Óengus_I_of_the_Picts</td>\n",
       "    </tr>\n",
       "  </tbody>\n",
       "</table>\n",
       "</div>"
      ],
      "text/plain": [
       "                 article\n",
       "0      Áedán_mac_Gabráin\n",
       "1                  Åland\n",
       "2          Édouard_Manet\n",
       "3                   Éire\n",
       "4  Óengus_I_of_the_Picts"
      ]
     },
     "metadata": {},
     "output_type": "display_data"
    }
   ],
   "source": [
    "# clean up url encoding for articles\n",
    "display(articles.head())\n",
    "articles[\"article\"] = articles.article.apply(urllib.parse.unquote)\n",
    "display(articles.head())"
   ]
  },
  {
   "cell_type": "code",
   "execution_count": 9,
   "metadata": {},
   "outputs": [
    {
     "data": {
      "text/html": [
       "<div>\n",
       "<style scoped>\n",
       "    .dataframe tbody tr th:only-of-type {\n",
       "        vertical-align: middle;\n",
       "    }\n",
       "\n",
       "    .dataframe tbody tr th {\n",
       "        vertical-align: top;\n",
       "    }\n",
       "\n",
       "    .dataframe thead th {\n",
       "        text-align: right;\n",
       "    }\n",
       "</style>\n",
       "<table border=\"1\" class=\"dataframe\">\n",
       "  <thead>\n",
       "    <tr style=\"text-align: right;\">\n",
       "      <th></th>\n",
       "      <th>article</th>\n",
       "      <th>category</th>\n",
       "    </tr>\n",
       "  </thead>\n",
       "  <tbody>\n",
       "    <tr>\n",
       "      <th>0</th>\n",
       "      <td>%C3%81ed%C3%A1n_mac_Gabr%C3%A1in</td>\n",
       "      <td>subject.History.British_History.British_Histor...</td>\n",
       "    </tr>\n",
       "    <tr>\n",
       "      <th>1</th>\n",
       "      <td>%C3%81ed%C3%A1n_mac_Gabr%C3%A1in</td>\n",
       "      <td>subject.People.Historical_figures</td>\n",
       "    </tr>\n",
       "    <tr>\n",
       "      <th>2</th>\n",
       "      <td>%C3%85land</td>\n",
       "      <td>subject.Countries</td>\n",
       "    </tr>\n",
       "    <tr>\n",
       "      <th>3</th>\n",
       "      <td>%C3%85land</td>\n",
       "      <td>subject.Geography.European_Geography.European_...</td>\n",
       "    </tr>\n",
       "    <tr>\n",
       "      <th>4</th>\n",
       "      <td>%C3%89douard_Manet</td>\n",
       "      <td>subject.People.Artists</td>\n",
       "    </tr>\n",
       "  </tbody>\n",
       "</table>\n",
       "</div>"
      ],
      "text/plain": [
       "                            article  \\\n",
       "0  %C3%81ed%C3%A1n_mac_Gabr%C3%A1in   \n",
       "1  %C3%81ed%C3%A1n_mac_Gabr%C3%A1in   \n",
       "2                        %C3%85land   \n",
       "3                        %C3%85land   \n",
       "4                %C3%89douard_Manet   \n",
       "\n",
       "                                            category  \n",
       "0  subject.History.British_History.British_Histor...  \n",
       "1                  subject.People.Historical_figures  \n",
       "2                                  subject.Countries  \n",
       "3  subject.Geography.European_Geography.European_...  \n",
       "4                             subject.People.Artists  "
      ]
     },
     "metadata": {},
     "output_type": "display_data"
    },
    {
     "data": {
      "text/html": [
       "<div>\n",
       "<style scoped>\n",
       "    .dataframe tbody tr th:only-of-type {\n",
       "        vertical-align: middle;\n",
       "    }\n",
       "\n",
       "    .dataframe tbody tr th {\n",
       "        vertical-align: top;\n",
       "    }\n",
       "\n",
       "    .dataframe thead th {\n",
       "        text-align: right;\n",
       "    }\n",
       "</style>\n",
       "<table border=\"1\" class=\"dataframe\">\n",
       "  <thead>\n",
       "    <tr style=\"text-align: right;\">\n",
       "      <th></th>\n",
       "      <th>article</th>\n",
       "      <th>category</th>\n",
       "    </tr>\n",
       "  </thead>\n",
       "  <tbody>\n",
       "    <tr>\n",
       "      <th>0</th>\n",
       "      <td>Áedán_mac_Gabráin</td>\n",
       "      <td>subject.History.British_History.British_Histor...</td>\n",
       "    </tr>\n",
       "    <tr>\n",
       "      <th>1</th>\n",
       "      <td>Áedán_mac_Gabráin</td>\n",
       "      <td>subject.People.Historical_figures</td>\n",
       "    </tr>\n",
       "    <tr>\n",
       "      <th>2</th>\n",
       "      <td>Åland</td>\n",
       "      <td>subject.Countries</td>\n",
       "    </tr>\n",
       "    <tr>\n",
       "      <th>3</th>\n",
       "      <td>Åland</td>\n",
       "      <td>subject.Geography.European_Geography.European_...</td>\n",
       "    </tr>\n",
       "    <tr>\n",
       "      <th>4</th>\n",
       "      <td>Édouard_Manet</td>\n",
       "      <td>subject.People.Artists</td>\n",
       "    </tr>\n",
       "  </tbody>\n",
       "</table>\n",
       "</div>"
      ],
      "text/plain": [
       "             article                                           category\n",
       "0  Áedán_mac_Gabráin  subject.History.British_History.British_Histor...\n",
       "1  Áedán_mac_Gabráin                  subject.People.Historical_figures\n",
       "2              Åland                                  subject.Countries\n",
       "3              Åland  subject.Geography.European_Geography.European_...\n",
       "4      Édouard_Manet                             subject.People.Artists"
      ]
     },
     "metadata": {},
     "output_type": "display_data"
    }
   ],
   "source": [
    "# clean up url encoding for categories\n",
    "display(categories.head())\n",
    "categories[\"article\"] = categories.article.apply(urllib.parse.unquote)\n",
    "display(categories.head())"
   ]
  },
  {
   "cell_type": "code",
   "execution_count": 10,
   "metadata": {},
   "outputs": [
    {
     "data": {
      "text/html": [
       "<div>\n",
       "<style scoped>\n",
       "    .dataframe tbody tr th:only-of-type {\n",
       "        vertical-align: middle;\n",
       "    }\n",
       "\n",
       "    .dataframe tbody tr th {\n",
       "        vertical-align: top;\n",
       "    }\n",
       "\n",
       "    .dataframe thead th {\n",
       "        text-align: right;\n",
       "    }\n",
       "</style>\n",
       "<table border=\"1\" class=\"dataframe\">\n",
       "  <thead>\n",
       "    <tr style=\"text-align: right;\">\n",
       "      <th></th>\n",
       "      <th>article</th>\n",
       "      <th>category</th>\n",
       "    </tr>\n",
       "  </thead>\n",
       "  <tbody>\n",
       "    <tr>\n",
       "      <th>0</th>\n",
       "      <td>Áedán_mac_Gabráin</td>\n",
       "      <td>subject.History.British_History.British_Histor...</td>\n",
       "    </tr>\n",
       "    <tr>\n",
       "      <th>1</th>\n",
       "      <td>Áedán_mac_Gabráin</td>\n",
       "      <td>subject.People.Historical_figures</td>\n",
       "    </tr>\n",
       "    <tr>\n",
       "      <th>2</th>\n",
       "      <td>Åland</td>\n",
       "      <td>subject.Countries</td>\n",
       "    </tr>\n",
       "    <tr>\n",
       "      <th>3</th>\n",
       "      <td>Åland</td>\n",
       "      <td>subject.Geography.European_Geography.European_...</td>\n",
       "    </tr>\n",
       "    <tr>\n",
       "      <th>4</th>\n",
       "      <td>Édouard_Manet</td>\n",
       "      <td>subject.People.Artists</td>\n",
       "    </tr>\n",
       "  </tbody>\n",
       "</table>\n",
       "</div>"
      ],
      "text/plain": [
       "             article                                           category\n",
       "0  Áedán_mac_Gabráin  subject.History.British_History.British_Histor...\n",
       "1  Áedán_mac_Gabráin                  subject.People.Historical_figures\n",
       "2              Åland                                  subject.Countries\n",
       "3              Åland  subject.Geography.European_Geography.European_...\n",
       "4      Édouard_Manet                             subject.People.Artists"
      ]
     },
     "metadata": {},
     "output_type": "display_data"
    },
    {
     "name": "stdout",
     "output_type": "stream",
     "text": [
      "Merge introduced 6 NAs in category columns:\n"
     ]
    },
    {
     "data": {
      "text/html": [
       "<div>\n",
       "<style scoped>\n",
       "    .dataframe tbody tr th:only-of-type {\n",
       "        vertical-align: middle;\n",
       "    }\n",
       "\n",
       "    .dataframe tbody tr th {\n",
       "        vertical-align: top;\n",
       "    }\n",
       "\n",
       "    .dataframe thead th {\n",
       "        text-align: right;\n",
       "    }\n",
       "</style>\n",
       "<table border=\"1\" class=\"dataframe\">\n",
       "  <thead>\n",
       "    <tr style=\"text-align: right;\">\n",
       "      <th></th>\n",
       "      <th>article</th>\n",
       "      <th>category</th>\n",
       "    </tr>\n",
       "  </thead>\n",
       "  <tbody>\n",
       "    <tr>\n",
       "      <th>1360</th>\n",
       "      <td>Directdebit</td>\n",
       "      <td>NaN</td>\n",
       "    </tr>\n",
       "    <tr>\n",
       "      <th>1385</th>\n",
       "      <td>Donation</td>\n",
       "      <td>NaN</td>\n",
       "    </tr>\n",
       "    <tr>\n",
       "      <th>1811</th>\n",
       "      <td>Friend_Directdebit</td>\n",
       "      <td>NaN</td>\n",
       "    </tr>\n",
       "    <tr>\n",
       "      <th>3670</th>\n",
       "      <td>Pikachu</td>\n",
       "      <td>NaN</td>\n",
       "    </tr>\n",
       "    <tr>\n",
       "      <th>4342</th>\n",
       "      <td>Sponsorship_Directdebit</td>\n",
       "      <td>NaN</td>\n",
       "    </tr>\n",
       "    <tr>\n",
       "      <th>5141</th>\n",
       "      <td>Wowpurchase</td>\n",
       "      <td>NaN</td>\n",
       "    </tr>\n",
       "  </tbody>\n",
       "</table>\n",
       "</div>"
      ],
      "text/plain": [
       "                      article category\n",
       "1360              Directdebit      NaN\n",
       "1385                 Donation      NaN\n",
       "1811       Friend_Directdebit      NaN\n",
       "3670                  Pikachu      NaN\n",
       "4342  Sponsorship_Directdebit      NaN\n",
       "5141              Wowpurchase      NaN"
      ]
     },
     "execution_count": 10,
     "metadata": {},
     "output_type": "execute_result"
    }
   ],
   "source": [
    "# merge articles and categories\n",
    "articles_categories = pd.merge(articles, categories, how=\"left\", on=\"article\")\n",
    "display(articles_categories.head())\n",
    "# 6 articles without category!\n",
    "print(\"Merge introduced {} NAs in category columns:\".format(articles_categories.category.isna().sum()))\n",
    "articles_categories[articles_categories.category.isna()]"
   ]
  },
  {
   "cell_type": "code",
   "execution_count": 11,
   "metadata": {},
   "outputs": [],
   "source": [
    "# Convert paths to a readable format (lists)\n",
    "\n",
    "finished_paths_readable = finished_paths.copy()\n",
    "finished_paths_readable[\"readable_path\"] = finished_paths_readable[\"path\"].apply(lambda x: x.split(\";\"))\n",
    "finished_paths_readable[\"readable_path\"] = finished_paths_readable[\"readable_path\"].apply(lambda x: [urllib.parse.unquote(y) for y in x])\n",
    "\n",
    "unfinished_paths_readable = unfinished_paths.copy()\n",
    "unfinished_paths_readable[\"readable_path\"] = unfinished_paths_readable[\"path\"].apply(lambda x: x.split(\";\"))\n",
    "unfinished_paths_readable[\"readable_path\"] = unfinished_paths_readable[\"readable_path\"].apply(lambda x: [urllib.parse.unquote(y) for y in x])\n",
    "unfinished_paths_readable[\"target\"] = unfinished_paths_readable[\"target\"].apply(urllib.parse.unquote)"
   ]
  },
  {
   "cell_type": "code",
   "execution_count": 12,
   "metadata": {},
   "outputs": [],
   "source": [
    "# functions to get all links between articles\n",
    "from itertools import tee\n",
    "def pairwise(iterable):\n",
    "    # from python docs - will be introduced in version 3.10\n",
    "    # pairwise('ABCDEFG') --> AB BC CD DE EF FG\n",
    "    a, b = tee(iterable)\n",
    "    next(b, None)\n",
    "    return zip(a, b)\n",
    "\n",
    "\n",
    "def get_all_links(df, path_colname=\"path\"):\n",
    "    edge_counter = {}\n",
    "    for _, row in df.iterrows():\n",
    "        links = row['path'].split(';')\n",
    "        \n",
    "        edges = list(pairwise(links))\n",
    "\n",
    "        for edge in edges:\n",
    "            if edge in edge_counter:\n",
    "                edge_counter[edge] += 1\n",
    "            else:\n",
    "                edge_counter[edge] = 1\n",
    "\n",
    "    out = pd.Series(edge_counter).reset_index()\n",
    "    out.columns = [\"source\", \"target\", \"weight\"]\n",
    "    return out\n",
    "\n"
   ]
  },
  {
   "cell_type": "code",
   "execution_count": 13,
   "metadata": {},
   "outputs": [
    {
     "data": {
      "text/html": [
       "<div>\n",
       "<style scoped>\n",
       "    .dataframe tbody tr th:only-of-type {\n",
       "        vertical-align: middle;\n",
       "    }\n",
       "\n",
       "    .dataframe tbody tr th {\n",
       "        vertical-align: top;\n",
       "    }\n",
       "\n",
       "    .dataframe thead th {\n",
       "        text-align: right;\n",
       "    }\n",
       "</style>\n",
       "<table border=\"1\" class=\"dataframe\">\n",
       "  <thead>\n",
       "    <tr style=\"text-align: right;\">\n",
       "      <th></th>\n",
       "      <th>source</th>\n",
       "      <th>target</th>\n",
       "      <th>weight</th>\n",
       "    </tr>\n",
       "  </thead>\n",
       "  <tbody>\n",
       "    <tr>\n",
       "      <th>66</th>\n",
       "      <td>&lt;</td>\n",
       "      <td>&lt;</td>\n",
       "      <td>4971</td>\n",
       "    </tr>\n",
       "    <tr>\n",
       "      <th>8550</th>\n",
       "      <td>Communication</td>\n",
       "      <td>Telephone</td>\n",
       "      <td>533</td>\n",
       "    </tr>\n",
       "    <tr>\n",
       "      <th>25</th>\n",
       "      <td>North_America</td>\n",
       "      <td>United_States</td>\n",
       "      <td>492</td>\n",
       "    </tr>\n",
       "    <tr>\n",
       "      <th>579</th>\n",
       "      <td>Animal</td>\n",
       "      <td>Mammal</td>\n",
       "      <td>487</td>\n",
       "    </tr>\n",
       "    <tr>\n",
       "      <th>2127</th>\n",
       "      <td>Lion</td>\n",
       "      <td>Zebra</td>\n",
       "      <td>472</td>\n",
       "    </tr>\n",
       "    <tr>\n",
       "      <th>...</th>\n",
       "      <td>...</td>\n",
       "      <td>...</td>\n",
       "      <td>...</td>\n",
       "    </tr>\n",
       "    <tr>\n",
       "      <th>34539</th>\n",
       "      <td>Latin_America</td>\n",
       "      <td>Guyana</td>\n",
       "      <td>1</td>\n",
       "    </tr>\n",
       "    <tr>\n",
       "      <th>34538</th>\n",
       "      <td>Wine</td>\n",
       "      <td>Latin_America</td>\n",
       "      <td>1</td>\n",
       "    </tr>\n",
       "    <tr>\n",
       "      <th>34532</th>\n",
       "      <td>Crow</td>\n",
       "      <td>Dove</td>\n",
       "      <td>1</td>\n",
       "    </tr>\n",
       "    <tr>\n",
       "      <th>34530</th>\n",
       "      <td>Symmetry</td>\n",
       "      <td>Physics</td>\n",
       "      <td>1</td>\n",
       "    </tr>\n",
       "    <tr>\n",
       "      <th>55146</th>\n",
       "      <td>Ziad_Jarrah</td>\n",
       "      <td>Germany</td>\n",
       "      <td>1</td>\n",
       "    </tr>\n",
       "  </tbody>\n",
       "</table>\n",
       "<p>55147 rows × 3 columns</p>\n",
       "</div>"
      ],
      "text/plain": [
       "              source         target  weight\n",
       "66                 <              <    4971\n",
       "8550   Communication      Telephone     533\n",
       "25     North_America  United_States     492\n",
       "579           Animal         Mammal     487\n",
       "2127            Lion          Zebra     472\n",
       "...              ...            ...     ...\n",
       "34539  Latin_America         Guyana       1\n",
       "34538           Wine  Latin_America       1\n",
       "34532           Crow           Dove       1\n",
       "34530       Symmetry        Physics       1\n",
       "55146    Ziad_Jarrah        Germany       1\n",
       "\n",
       "[55147 rows x 3 columns]"
      ]
     },
     "execution_count": 13,
     "metadata": {},
     "output_type": "execute_result"
    }
   ],
   "source": [
    "# get all finished links\n",
    "finished_links = get_all_links(finished_paths)\n",
    "finished_links.sort_values(by=\"weight\", ascending=False) # TODO: what is up with these <<< signs?\n"
   ]
  },
  {
   "cell_type": "code",
   "execution_count": 14,
   "metadata": {},
   "outputs": [
    {
     "data": {
      "text/html": [
       "<div>\n",
       "<style scoped>\n",
       "    .dataframe tbody tr th:only-of-type {\n",
       "        vertical-align: middle;\n",
       "    }\n",
       "\n",
       "    .dataframe tbody tr th {\n",
       "        vertical-align: top;\n",
       "    }\n",
       "\n",
       "    .dataframe thead th {\n",
       "        text-align: right;\n",
       "    }\n",
       "</style>\n",
       "<table border=\"1\" class=\"dataframe\">\n",
       "  <thead>\n",
       "    <tr style=\"text-align: right;\">\n",
       "      <th></th>\n",
       "      <th>source</th>\n",
       "      <th>target</th>\n",
       "      <th>weight</th>\n",
       "    </tr>\n",
       "  </thead>\n",
       "  <tbody>\n",
       "    <tr>\n",
       "      <th>63</th>\n",
       "      <td>&lt;</td>\n",
       "      <td>&lt;</td>\n",
       "      <td>3814</td>\n",
       "    </tr>\n",
       "    <tr>\n",
       "      <th>5155</th>\n",
       "      <td>Pyramid</td>\n",
       "      <td>Mexico</td>\n",
       "      <td>278</td>\n",
       "    </tr>\n",
       "    <tr>\n",
       "      <th>5209</th>\n",
       "      <td>Brain</td>\n",
       "      <td>Computer_science</td>\n",
       "      <td>222</td>\n",
       "    </tr>\n",
       "    <tr>\n",
       "      <th>392</th>\n",
       "      <td>Animal</td>\n",
       "      <td>Mammal</td>\n",
       "      <td>187</td>\n",
       "    </tr>\n",
       "    <tr>\n",
       "      <th>159</th>\n",
       "      <td>&lt;</td>\n",
       "      <td>United_States</td>\n",
       "      <td>171</td>\n",
       "    </tr>\n",
       "    <tr>\n",
       "      <th>...</th>\n",
       "      <td>...</td>\n",
       "      <td>...</td>\n",
       "      <td>...</td>\n",
       "    </tr>\n",
       "    <tr>\n",
       "      <th>18326</th>\n",
       "      <td>Electromagnetic_radiation</td>\n",
       "      <td>Gauss%27s_law</td>\n",
       "      <td>1</td>\n",
       "    </tr>\n",
       "    <tr>\n",
       "      <th>18324</th>\n",
       "      <td>History_of_computing_hardware</td>\n",
       "      <td>History_of_the_Internet</td>\n",
       "      <td>1</td>\n",
       "    </tr>\n",
       "    <tr>\n",
       "      <th>18323</th>\n",
       "      <td>Scurvy</td>\n",
       "      <td>Pellagra</td>\n",
       "      <td>1</td>\n",
       "    </tr>\n",
       "    <tr>\n",
       "      <th>18322</th>\n",
       "      <td>River</td>\n",
       "      <td>Germany</td>\n",
       "      <td>1</td>\n",
       "    </tr>\n",
       "    <tr>\n",
       "      <th>34230</th>\n",
       "      <td>Tennis</td>\n",
       "      <td>Hawk-Eye</td>\n",
       "      <td>1</td>\n",
       "    </tr>\n",
       "  </tbody>\n",
       "</table>\n",
       "<p>34231 rows × 3 columns</p>\n",
       "</div>"
      ],
      "text/plain": [
       "                              source                   target  weight\n",
       "63                                 <                        <    3814\n",
       "5155                         Pyramid                   Mexico     278\n",
       "5209                           Brain         Computer_science     222\n",
       "392                           Animal                   Mammal     187\n",
       "159                                <            United_States     171\n",
       "...                              ...                      ...     ...\n",
       "18326      Electromagnetic_radiation            Gauss%27s_law       1\n",
       "18324  History_of_computing_hardware  History_of_the_Internet       1\n",
       "18323                         Scurvy                 Pellagra       1\n",
       "18322                          River                  Germany       1\n",
       "34230                         Tennis                 Hawk-Eye       1\n",
       "\n",
       "[34231 rows x 3 columns]"
      ]
     },
     "execution_count": 14,
     "metadata": {},
     "output_type": "execute_result"
    }
   ],
   "source": [
    "# get all unfinished links\n",
    "unfinished_links = get_all_links(unfinished_paths)\n",
    "unfinished_links.sort_values(by=\"weight\", ascending=False) # TODO: what is up with these <<< signs?\n"
   ]
  },
  {
   "cell_type": "code",
   "execution_count": 15,
   "metadata": {},
   "outputs": [
    {
     "data": {
      "text/plain": [
       "count    2788.000000\n",
       "mean        1.495696\n",
       "std        13.778984\n",
       "min         0.000000\n",
       "25%         0.000000\n",
       "50%         0.000000\n",
       "75%         0.000000\n",
       "max       240.000000\n",
       "dtype: float64"
      ]
     },
     "execution_count": 15,
     "metadata": {},
     "output_type": "execute_result"
    },
    {
     "data": {
      "image/png": "[encoded data removed]",
      "text/plain": [
       "<Figure size 640x480 with 1 Axes>"
      ]
     },
     "metadata": {},
     "output_type": "display_data"
    }
   ],
   "source": [
    "# create newtorkx graph from finished paths\n",
    "finished_graph = nx.from_pandas_edgelist(finished_links,source=\"source\", target=\"target\", edge_attr=\"weight\")\n",
    "hist = nx.degree_histogram(finished_graph)\n",
    "plt.bar(range(len(hist)), hist)\n",
    "pd.Series(hist).describe()"
   ]
  },
  {
   "cell_type": "code",
   "execution_count": 16,
   "metadata": {},
   "outputs": [
    {
     "data": {
      "text/plain": [
       "count    2284.000000\n",
       "mean        1.761821\n",
       "std        18.526944\n",
       "min         0.000000\n",
       "25%         0.000000\n",
       "50%         0.000000\n",
       "75%         0.000000\n",
       "max       363.000000\n",
       "dtype: float64"
      ]
     },
     "execution_count": 16,
     "metadata": {},
     "output_type": "execute_result"
    },
    {
     "data": {
      "image/png": "[encoded data removed]",
      "text/plain": [
       "<Figure size 640x480 with 1 Axes>"
      ]
     },
     "metadata": {},
     "output_type": "display_data"
    }
   ],
   "source": [
    "# create newtorkx graph from unfinished paths\n",
    "unfinished_graph = nx.from_pandas_edgelist(unfinished_links,source=\"source\", target=\"target\", edge_attr=\"weight\")\n",
    "hist = nx.degree_histogram(unfinished_graph)\n",
    "plt.bar(range(len(hist)), hist)\n",
    "pd.Series(hist).describe()"
   ]
  },
  {
   "cell_type": "code",
   "execution_count": 17,
   "metadata": {},
   "outputs": [
    {
     "name": "stdout",
     "output_type": "stream",
     "text": [
      "Below shows how many articles each of the broad categories are represented by\n"
     ]
    },
    {
     "data": {
      "text/plain": [
       "broad_category\n",
       "Art                          38\n",
       "Business_Studies             88\n",
       "Citizenship                 224\n",
       "Countries                   229\n",
       "Design_and_Technology       254\n",
       "Everyday_life               374\n",
       "Geography                  1084\n",
       "History                     545\n",
       "IT                           85\n",
       "Language_and_literature     196\n",
       "Mathematics                  45\n",
       "Music                        97\n",
       "People                      689\n",
       "Religion                    134\n",
       "Science                    1122\n",
       "dtype: int64"
      ]
     },
     "metadata": {},
     "output_type": "display_data"
    }
   ],
   "source": [
    "# Seeing which categories are most represented in articles\n",
    "\n",
    "broad_categories = categories.copy()\n",
    "broad_categories[\"broad_category\"] = broad_categories[\"category\"].apply(lambda x: x.split(\".\")[1])\n",
    "\n",
    "count_articles = broad_categories.groupby(\"broad_category\").size()\n",
    "\n",
    "print(\"Below shows how many articles each of the broad categories are represented by\")\n",
    "display(count_articles)"
   ]
  },
  {
   "cell_type": "code",
   "execution_count": 18,
   "metadata": {},
   "outputs": [],
   "source": [
    "# Create dictionaries for easy discovery of what categories an article belongs to\n",
    "article_to_category = {}\n",
    "article_to_broad_category = {}\n",
    "for i in range(len(broad_categories)):\n",
    "    if broad_categories.iloc[i][\"article\"] in article_to_category:\n",
    "        article_to_category[broad_categories.iloc[i][\"article\"]].append(broad_categories.iloc[i][\"category\"])\n",
    "        article_to_broad_category[broad_categories.iloc[i][\"article\"]].append(broad_categories.iloc[i][\"broad_category\"])\n",
    "    else:\n",
    "        article_to_category[broad_categories.iloc[i][\"article\"]] = [broad_categories.iloc[i][\"category\"]]\n",
    "        article_to_broad_category[broad_categories.iloc[i][\"article\"]] = [broad_categories.iloc[i][\"broad_category\"]]"
   ]
  },
  {
   "cell_type": "markdown",
   "metadata": {},
   "source": [
    "# Backclick analysis"
   ]
  },
  {
   "cell_type": "code",
   "execution_count": 19,
   "metadata": {},
   "outputs": [],
   "source": [
    "def get_backclicked_pages(path):\n",
    "    \"\"\"\n",
    "    Returns a list of all the pages that were backclicked on in a path l.\n",
    "    \"\"\"\n",
    "    if \"<\" in path:\n",
    "        s = []\n",
    "        res = []\n",
    "        for i in range(len(path)):\n",
    "            if path[i] == \"<\":\n",
    "                res.append(s.pop())\n",
    "            else:\n",
    "                s.append(path[i])\n",
    "        return res\n",
    "    else:\n",
    "        return []\n",
    "    \n",
    "\n",
    "def get_quitted_page(path):\n",
    "    \"\"\"\n",
    "    Return the page on which the user quit the path.\n",
    "    \"\"\"\n",
    "    if path is None:\n",
    "        return pd.NA\n",
    "    else:\n",
    "        if path[-1] != \"<\":\n",
    "            return path[-1]\n",
    "        else:\n",
    "            clean_path = []\n",
    "            for page in path:\n",
    "                if page != \"<\":\n",
    "                    clean_path.append(page)\n",
    "                else:\n",
    "                    clean_path.pop()\n",
    "            return clean_path[-1]\n"
   ]
  },
  {
   "cell_type": "markdown",
   "metadata": {},
   "source": [
    "#### Let's now analyse the quitting rate of every single player in each category and compare it to the quitting rate of the player\n",
    "####"
   ]
  },
  {
   "cell_type": "markdown",
   "metadata": {},
   "source": [
    "## Filtering and pre-processing"
   ]
  },
  {
   "cell_type": "code",
   "execution_count": 27,
   "metadata": {},
   "outputs": [
    {
     "name": "stdout",
     "output_type": "stream",
     "text": [
      "730 players played at least 10 games longer than 1 pages.\n"
     ]
    }
   ],
   "source": [
    "# Copy data (we're gonna filter out some stuff)\n",
    "finished = finished_paths_readable.copy(deep=True)\n",
    "unfinished = unfinished_paths_readable.copy(deep=True)\n",
    "\n",
    "\n",
    "# Keep only data matching the same period (unfinished path were not recorded before 2011-02-07)\n",
    "finished = finished[finished[\"datetime\"] >= unfinished.sort_values(by=\"datetime\").datetime[0]]\n",
    "\n",
    "# Keep only unfinished games where the reason is \"restart\"\n",
    "# TODO: see whether this makes the difference or not\n",
    "unfinished = unfinished[unfinished[\"type\"] == \"restart\"]\n",
    "\n",
    "# Keep only games referring to path longer than l\n",
    "path = 1\n",
    "unfinished = unfinished[unfinished[\"readable_path\"].apply(lambda x: len(x) > path)]\n",
    "finished = finished[finished[\"readable_path\"].apply(lambda x: len(x) > path)]\n",
    "\n",
    "\n",
    "# Keep only players that played overall at least n games\n",
    "n = 10\n",
    "considered_players = pd.concat([finished[[\"hashedIpAddress\", \"datetime\"]], unfinished[[\"hashedIpAddress\", \"datetime\"]]])\n",
    "considered_players = considered_players.groupby(by=\"hashedIpAddress\").size().reset_index(name=\"num_games\")\n",
    "considered_players = considered_players[considered_players[\"num_games\"] >= n]\n",
    "\n",
    "finished = pd.merge(left=finished, right=considered_players, how=\"inner\", on=\"hashedIpAddress\")\n",
    "unfinished = pd.merge(left=unfinished, right=considered_players, how=\"inner\", on=\"hashedIpAddress\")\n",
    "\n",
    "print(\"{} players played at least {} games longer than {} pages.\".format(len(considered_players), n, path))\n"
   ]
  },
  {
   "cell_type": "markdown",
   "metadata": {},
   "source": [
    "# 1. Quitting rate distribution"
   ]
  },
  {
   "cell_type": "markdown",
   "metadata": {},
   "source": [
    "#### Let's visualize the distribution of quitting probability"
   ]
  },
  {
   "cell_type": "code",
   "execution_count": 28,
   "metadata": {},
   "outputs": [],
   "source": [
    "quitting_rates = pd.DataFrame({\n",
    "    \"played_games\": pd.concat([finished[\"hashedIpAddress\"], unfinished[\"hashedIpAddress\"]], ignore_index=True).value_counts(),\n",
    "    \"quitted_games\": unfinished[\"hashedIpAddress\"].value_counts(),\n",
    "}).reset_index()\n",
    "\n",
    "quitting_rates[\"quitted_games\"].fillna(0, inplace=True)\n",
    "quitting_rates[\"quit_rate\"] = quitting_rates[\"quitted_games\"] / quitting_rates[\"played_games\"]"
   ]
  },
  {
   "cell_type": "code",
   "execution_count": 29,
   "metadata": {},
   "outputs": [
    {
     "data": {
      "text/plain": [
       "<Axes: xlabel='quit_rate', ylabel='Count'>"
      ]
     },
     "execution_count": 29,
     "metadata": {},
     "output_type": "execute_result"
    },
    {
     "data": {
      "image/png": "[encoded data removed]",
      "text/plain": [
       "<Figure size 640x480 with 1 Axes>"
      ]
     },
     "metadata": {},
     "output_type": "display_data"
    }
   ],
   "source": [
    "sns.histplot(data=quitting_rates[\"quit_rate\"], kde=True, bins=15)"
   ]
  },
  {
   "cell_type": "markdown",
   "metadata": {},
   "source": [
    "# 2. Back-click rate distribution"
   ]
  },
  {
   "cell_type": "code",
   "execution_count": 32,
   "metadata": {},
   "outputs": [],
   "source": [
    "tmp_finished = finished.copy()\n",
    "tmp_unfinished = unfinished.copy()\n",
    "tmp_finished[\"finished\"] = True\n",
    "tmp_unfinished[\"finished\"] = False\n",
    "\n",
    "backclicks_df = pd.concat([tmp_finished, tmp_unfinished], ignore_index=True)[[\"hashedIpAddress\", \"readable_path\", \"finished\"]]\n",
    "\n",
    "# Compute backclicked and visited pages\n",
    "backclicks_df[\"backclicked_pages\"] = backclicks_df[\"readable_path\"].apply(lambda x: get_backclicked_pages(x))\n",
    "backclicks_df[\"visited_pages\"] = backclicks_df[\"readable_path\"].apply(lambda x: [el for el in x if el != \"<\"])\n",
    "\n",
    "# Compute backclick rate for each game\n",
    "backclicks_df[\"backclick_freq\"] = backclicks_df[\"backclicked_pages\"].apply(lambda x: len(x) if x is not pd.NA else 0) / backclicks_df[\"visited_pages\"].apply(lambda x: len(x))\n"
   ]
  },
  {
   "cell_type": "code",
   "execution_count": 33,
   "metadata": {},
   "outputs": [
    {
     "data": {
      "image/png": "[encoded data removed]",
      "text/plain": [
       "<Figure size 640x480 with 1 Axes>"
      ]
     },
     "metadata": {},
     "output_type": "display_data"
    }
   ],
   "source": [
    "sns.histplot(data=backclicks_df[[\"hashedIpAddress\", \"backclick_freq\"]].groupby(\"hashedIpAddress\").mean()[\"backclick_freq\"],\n",
    "             kde=True,\n",
    "             bins=15)\n",
    "plt.title(\"Distribution of avg backclick-rate for each player over all their games\")\n",
    "plt.xlabel(\"Avg backclick-rate\")\n",
    "plt.ylabel(\"Number of players\")\n",
    "plt.show()"
   ]
  },
  {
   "cell_type": "markdown",
   "metadata": {},
   "source": [
    "# 3. Backclick-rate per category"
   ]
  },
  {
   "cell_type": "markdown",
   "metadata": {},
   "source": [
    "#### We define ***backclick rate*** of a player on a category, as the number of times that player has backclicked a page of that category, over the total number he/she visited pages of that category. Or in other words, the how likely that player is to backclick a page of that category"
   ]
  },
  {
   "cell_type": "code",
   "execution_count": 34,
   "metadata": {},
   "outputs": [],
   "source": [
    "# Create a dataframe to count the number of backclicks and visits for each category\n",
    "backclicks_df[\"visited_categories\"] = backclicks_df[\"visited_pages\"].apply(lambda x: [article_to_broad_category[page][0] for page in x if page in article_to_broad_category.keys()])\n",
    "backclicks_df[\"backclicked_categories\"] = backclicks_df[\"backclicked_pages\"].apply(lambda x: [article_to_broad_category[page][0] for page in x if page in article_to_broad_category.keys()]\n",
    "                                                                                        if x is not pd.NA else pd.NA)\n",
    "backclicks_per_category = pd.merge(\n",
    "    backclicks_df[[\"hashedIpAddress\", \"visited_categories\", \"finished\"]].explode(\"visited_categories\").groupby([\"hashedIpAddress\", \"visited_categories\", \"finished\"]).size().reset_index(name=\"visits_count\"),\n",
    "    backclicks_df[[\"hashedIpAddress\", \"backclicked_categories\", \"finished\"]].explode(\"backclicked_categories\").groupby([\"hashedIpAddress\", \"backclicked_categories\", \"finished\"]).size().reset_index(name=\"backclicks_count\"),\n",
    "    how=\"left\",\n",
    "    left_on=[\"hashedIpAddress\", \"visited_categories\", \"finished\"],\n",
    "    right_on=[\"hashedIpAddress\", \"backclicked_categories\", \"finished\"],\n",
    ")\n",
    "\n",
    "backclicks_per_category.drop(columns=[\"backclicked_categories\"], inplace=True)\n",
    "backclicks_per_category.rename(columns={\"visited_categories\": \"category\"}, inplace=True)\n",
    "backclicks_per_category[\"backclicks_count\"].fillna(0, inplace=True)\n",
    "backclicks_per_category[\"backclick_rate_per_category\"] = backclicks_per_category[\"backclicks_count\"] / backclicks_per_category[\"visits_count\"]"
   ]
  },
  {
   "cell_type": "code",
   "execution_count": 42,
   "metadata": {},
   "outputs": [
    {
     "data": {
      "image/png": "[encoded data removed]",
      "text/plain": [
       "<Figure size 1400x800 with 1 Axes>"
      ]
     },
     "metadata": {},
     "output_type": "display_data"
    }
   ],
   "source": [
    "plt.figure(figsize=(14, 8))\n",
    "sns.barplot(data=backclicks_per_category[[\"category\", \"finished\", \"backclick_rate_per_category\"]],\n",
    "            x=\"category\",\n",
    "            y=\"backclick_rate_per_category\",\n",
    "            hue=\"finished\",\n",
    "            errorbar=(\"ci\", 95),\n",
    "            errwidth=1.4,\n",
    "            capsize=0.1,\n",
    "            estimator=np.median,)\n",
    "plt.xticks(rotation=90)\n",
    "plt.title(\"Avg backclick-rate per category: finished vs unfinished games\")\n",
    "plt.ylabel(\"Avg backclick-rate per category\", labelpad=20)\n",
    "plt.xlabel(\"Category\")\n",
    "plt.legend(title=\"Finished game\", ncols=2)\n",
    "plt.show()"
   ]
  },
  {
   "cell_type": "markdown",
   "metadata": {},
   "source": [
    "# 4. Quit vs. Backclicks"
   ]
  },
  {
   "cell_type": "markdown",
   "metadata": {},
   "source": [
    "### Is there a link between the categories on which the player backclicked and the ones on which he/she quitted?\n",
    "Let's now do a hypothesis test to see whether the quitting rate is significantly different for players who backclick a lot vs. players who don't backclick a lot.\n",
    "\n",
    "For this purpose we will use a chi-squared test, with:\n",
    "- $H_0$: the probability of quitting and the probability of backclicking are independent\n",
    "- $H_1$: the probability of quitting and the probability of backclicking are not independent"
   ]
  },
  {
   "cell_type": "code",
   "execution_count": 36,
   "metadata": {},
   "outputs": [
    {
     "name": "stdout",
     "output_type": "stream",
     "text": [
      "Chi-squared statistic: 507.596638248585\n",
      "P-value: 1.8300022831380184e-107\n",
      "\n",
      "-> Reject the null hypothesis. There is a significant relationship.\n"
     ]
    }
   ],
   "source": [
    "intervals = [0, 0.0675, 0.125, 0.1875, 0.25, 0.5, 1]\n",
    "backclicks_df[\"backclick_freq_interval\"] = pd.cut(backclicks_df[\"backclick_freq\"], bins=intervals, include_lowest=True)\n",
    "\n",
    "contingency_table = pd.crosstab(backclicks_df[\"backclick_freq_interval\"], backclicks_df[\"finished\"])\n",
    "\n",
    "chi2, p, _, _ = stats.chi2_contingency(contingency_table)\n",
    "\n",
    "# Output the results\n",
    "print(\"Chi-squared statistic:\", chi2)\n",
    "print(\"P-value:\", p)\n",
    "alpha = 0.05\n",
    "if p < alpha:\n",
    "    print(\"\\n-> Reject the null hypothesis. There is a significant relationship.\")\n",
    "else:\n",
    "    print(\"\\n-> Fail to reject the null hypothesis. There is no significant relationship.\")\n"
   ]
  },
  {
   "cell_type": "code",
   "execution_count": 37,
   "metadata": {},
   "outputs": [
    {
     "data": {
      "image/png": "[encoded data removed]",
      "text/plain": [
       "<Figure size 640x480 with 1 Axes>"
      ]
     },
     "metadata": {},
     "output_type": "display_data"
    }
   ],
   "source": [
    "sns.set_theme(style=\"whitegrid\")\n",
    "sns.histplot(backclicks_df[backclicks_df[\"finished\"] == True][\"backclick_freq\"], kde=True, bins=15)\n",
    "sns.histplot(backclicks_df[backclicks_df[\"finished\"] == False][\"backclick_freq\"], kde=True, bins=15)\n",
    "plt.legend([\"Finished games\", \"Unfinished games\"])\n",
    "plt.title(\"Distribution of backclick-rate for finished vs unfinished games\")\n",
    "plt.show()"
   ]
  },
  {
   "cell_type": "markdown",
   "metadata": {},
   "source": [
    "In the previous point we've considered every game as independent by other games, but it could be interesting to see if we can get the same result aggregating the back-click frequency of all the games of the same player"
   ]
  },
  {
   "cell_type": "code",
   "execution_count": 38,
   "metadata": {},
   "outputs": [
    {
     "name": "stdout",
     "output_type": "stream",
     "text": [
      "Chi-squared statistic: 218.31679077645282\n",
      "P-value: 3.40811948432458e-45\n",
      "\n",
      "-> Reject the null hypothesis. There is a significant relationship.\n"
     ]
    }
   ],
   "source": [
    "# Aggregate the backclick rate for each player over all their games\n",
    "backclicks_df = backclicks_df.groupby(by=[\"hashedIpAddress\", \"finished\"])[\"backclick_freq\"].aggregate(\"mean\").reset_index()\n",
    "backclicks_df[\"backclick_freq_interval\"] = pd.cut(backclicks_df[\"backclick_freq\"], bins=intervals, include_lowest=True)\n",
    "\n",
    "contingency_table = pd.crosstab(backclicks_df[\"backclick_freq_interval\"], backclicks_df[\"finished\"])\n",
    "\n",
    "chi2, p, _, _ = stats.chi2_contingency(contingency_table)\n",
    "\n",
    "# Output the results\n",
    "print(\"Chi-squared statistic:\", chi2)\n",
    "print(\"P-value:\", p)\n",
    "alpha = 0.05\n",
    "if p < alpha:\n",
    "    print(\"\\n-> Reject the null hypothesis. There is a significant relationship.\")\n",
    "else:\n",
    "    print(\"\\n-> Fail to reject the null hypothesis. There is no significant relationship.\")"
   ]
  },
  {
   "cell_type": "code",
   "execution_count": null,
   "metadata": {},
   "outputs": [],
   "source": []
  },
  {
   "cell_type": "markdown",
   "metadata": {},
   "source": [
    "\n",
    "---\n"
   ]
  },
  {
   "cell_type": "code",
   "execution_count": null,
   "metadata": {},
   "outputs": [],
   "source": []
  },
  {
   "cell_type": "markdown",
   "metadata": {},
   "source": [
    "<a id=\"backclicks-analysis\"></a>\n",
    "\n",
    "#### 3.7 - Back-clicking influence on finished vs. unfinished paths"
   ]
  },
  {
   "cell_type": "markdown",
   "metadata": {},
   "source": [
    "##### For the following analyses, we will only consider players who palyed at least 10 games and exclude all games shorter than 2 clicks."
   ]
  },
  {
   "cell_type": "code",
   "execution_count": null,
   "metadata": {},
   "outputs": [],
   "source": [
    "# Filter games keeping only data collected from players who played at least 10 games, considering only paths with at least 2 clicks.\n",
    "bck_an_finished, bck_an_unfinished = filter_games(finished_paths, unfinished_paths, min_games=10, min_length=2, type=\"restart\")"
   ]
  },
  {
   "cell_type": "markdown",
   "metadata": {},
   "source": [
    "<a id=\"bck-distr\"></a>\n",
    "##### 3.7.1. Back-clicks frequency distribution\n",
    "Let's first visualize the distribution of the average backclick frequency, i.e. the average over all the games a user played of the number of backclicks over the path's length"
   ]
  },
  {
   "cell_type": "code",
   "execution_count": null,
   "metadata": {},
   "outputs": [],
   "source": [
    "# Concatenate the two dataframes\n",
    "bck_an_all = pd.concat([\n",
    "    bck_an_finished.assign(finished=True),\n",
    "    bck_an_unfinished.assign(finished=False)\n",
    "], ignore_index=True)[[\"hashedIpAddress\", \"path\", \"finished\"]]\n",
    "\n",
    "# Compute backclicked and visited pages (i.e. path without the \"<\")\n",
    "bck_an_all[\"backclicked_pages\"] = bck_an_all[\"path\"].apply(lambda x: get_backclicked_pages(x))\n",
    "bck_an_all[\"visited_pages\"] = bck_an_all[\"path\"].apply(lambda x: [el for el in x if el != \"<\"])\n",
    "\n",
    "# Compute backclick frequency for each game\n",
    "bck_an_all[\"backclick_freq\"] = bck_an_all[\"backclicked_pages\"].apply(lambda x: len(x) if x is not pd.NA else 0) / bck_an_all[\"visited_pages\"].apply(lambda x: len(x))"
   ]
  },
  {
   "cell_type": "code",
   "execution_count": null,
   "metadata": {},
   "outputs": [],
   "source": [
    "sns.histplot(data=bck_an_all[[\"hashedIpAddress\", \"backclick_freq\"]].groupby(\"hashedIpAddress\").mean()[\"backclick_freq\"],\n",
    "             kde=True,\n",
    "             bins=15)\n",
    "plt.title(\"Distribution of avg backclick frequency for each player over all their games\")\n",
    "plt.xlabel(\"Avg backclick-rate\")\n",
    "plt.ylabel(\"Number of players\")\n",
    "plt.show()"
   ]
  },
  {
   "cell_type": "markdown",
   "metadata": {},
   "source": [
    "<a id=bck-freq-compare></a>\n",
    "#### 3.7.2 Back-click frequency distribution in finished vs unfinished paths"
   ]
  },
  {
   "cell_type": "code",
   "execution_count": null,
   "metadata": {},
   "outputs": [],
   "source": [
    "# Create a dataframe to count the number of backclicks and visits for each category\n",
    "bck_an_all[\"visited_categories\"] = bck_an_all[\"visited_pages\"].apply(lambda x: [article_to_broad_category[page][0] for page in x if page in article_to_broad_category.keys()])\n",
    "bck_an_all[\"backclicked_categories\"] = bck_an_all[\"backclicked_pages\"].apply(lambda x: [article_to_broad_category[page][0] for page in x if page in article_to_broad_category.keys()]\n",
    "                                                                                        if x is not pd.NA else pd.NA)\n",
    "\n",
    "plt.figure(figsize=(12, 5))\n",
    "sns.histplot(bck_an_all[bck_an_all[\"finished\"] == True].groupby(\"hashedIpAddress\")[\"backclick_freq\"].mean(), kde=True, alpha=0.5)\n",
    "sns.histplot(bck_an_all[bck_an_all[\"finished\"] == False].groupby(\"hashedIpAddress\")[\"backclick_freq\"].mean(), kde=True, alpha=0.25)\n",
    "plt.legend([\"Finished games\", \"Unfinished games\"])\n",
    "plt.title(\"Distribution of avg backclick frequency for each player over all their games\")\n",
    "plt.xlabel(\"Avg backclick-rate\")\n",
    "plt.ylabel(\"Number of players\")\n",
    "plt.show()"
   ]
  },
  {
   "cell_type": "code",
   "execution_count": null,
   "metadata": {},
   "outputs": [],
   "source": [
    "# Create a dataframe to count the number of backclicks and visits for each category\n",
    "bck_an_all[\"visited_categories\"] = bck_an_all[\"visited_pages\"].apply(lambda x: [article_to_broad_category[page][0] for page in x if page in article_to_broad_category.keys()])\n",
    "bck_an_all[\"backclicked_categories\"] = bck_an_all[\"backclicked_pages\"].apply(lambda x: [article_to_broad_category[page][0] for page in x if page in article_to_broad_category.keys()]\n",
    "                                                                                        if x is not pd.NA else pd.NA)\n",
    "\n",
    "plt.figure(figsize=(12, 5))\n",
    "plt.hist(bck_an_all[bck_an_all[\"finished\"] == True].groupby(\"hashedIpAddress\")[\"backclick_freq\"].mean(), density=True, alpha=0.5, bins=25)\n",
    "plt.hist(bck_an_all[bck_an_all[\"finished\"] == False].groupby(\"hashedIpAddress\")[\"backclick_freq\"].mean(), density=True, alpha=0.25, bins=25)\n",
    "plt.legend([\"Finished games\", \"Unfinished games\"])\n",
    "plt.title(\"Distribution of avg backclick frequency for each player over all their games\")\n",
    "plt.xlabel(\"Avg backclick-rate\")\n",
    "plt.ylabel(\"Number of players\")\n",
    "plt.show()"
   ]
  },
  {
   "cell_type": "markdown",
   "metadata": {},
   "source": [
    "<a id=bck-rate-cat></a>\n",
    "#### 3.7.3 Back-click rate per category"
   ]
  },
  {
   "cell_type": "markdown",
   "metadata": {},
   "source": [
    "Now, we define the **back-click rate per category** $c$ for a player $P$ as the number of times that $P$ has baclicked on a page that belongs to the category $c$, divide by the number of times $P$ visited a page of that category. This measure should express how likely is the player $P$ to back-click a page of category $c$."
   ]
  },
  {
   "cell_type": "code",
   "execution_count": null,
   "metadata": {},
   "outputs": [],
   "source": [
    "backclicks_per_category = pd.merge(\n",
    "    bck_an_all[[\"hashedIpAddress\", \"visited_categories\", \"finished\"]].explode(\"visited_categories\").groupby([\"hashedIpAddress\", \"visited_categories\", \"finished\"]).size().reset_index(name=\"visits_count\"),\n",
    "    bck_an_all[[\"hashedIpAddress\", \"backclicked_categories\", \"finished\"]].explode(\"backclicked_categories\").groupby([\"hashedIpAddress\", \"backclicked_categories\", \"finished\"]).size().reset_index(name=\"backclicks_count\"),\n",
    "    how=\"left\",\n",
    "    left_on=[\"hashedIpAddress\", \"visited_categories\", \"finished\"],\n",
    "    right_on=[\"hashedIpAddress\", \"backclicked_categories\", \"finished\"],\n",
    ")\n",
    "\n",
    "backclicks_per_category.drop(columns=[\"backclicked_categories\"], inplace=True)\n",
    "backclicks_per_category.rename(columns={\"visited_categories\": \"category\"}, inplace=True)\n",
    "backclicks_per_category[\"backclicks_count\"].fillna(0, inplace=True)\n",
    "backclicks_per_category[\"backclick_rate_per_category\"] = backclicks_per_category[\"backclicks_count\"] / backclicks_per_category[\"visits_count\"]"
   ]
  },
  {
   "cell_type": "code",
   "execution_count": null,
   "metadata": {},
   "outputs": [],
   "source": [
    "plt.figure(figsize=(14, 8))\n",
    "sns.barplot(data=backclicks_per_category[[\"category\", \"finished\", \"backclick_rate_per_category\"]],\n",
    "            x=\"category\",\n",
    "            y=\"backclick_rate_per_category\",\n",
    "            hue=\"finished\",\n",
    "            order=backclicks_per_category[backclicks_per_category[\"finished\"] == False][[\"category\", \"backclick_rate_per_category\"]].groupby(\"category\").mean().sort_values(by=\"backclick_rate_per_category\", ascending=False).index,\n",
    "            hue_order=[True, False],\n",
    "            errorbar=(\"ci\", 95),\n",
    "            errwidth=1.4,\n",
    "            capsize=0.1,\n",
    "            estimator=np.mean,)\n",
    "plt.xticks(rotation=80)\n",
    "plt.title(\"Avg backclick-rate per category: finished vs unfinished games\")\n",
    "plt.ylabel(\"Avg backclick-rate per category\", labelpad=20)\n",
    "plt.xlabel(\"Category\", labelpad=20)\n",
    "plt.legend(title=\"Finished game\", ncols=2)\n",
    "plt.show()"
   ]
  },
  {
   "cell_type": "markdown",
   "metadata": {},
   "source": [
    "The bar chart shows that the average back-click rate is often significantly different for finished and unfinished paths.\n",
    "Since this data compare finished and unfinished per-category backclicl-rate of all players, we could see that it's likely that a player with a high back-click rate will quit, even if the measure of how likely is this case, depends on the category."
   ]
  },
  {
   "cell_type": "markdown",
   "metadata": {},
   "source": [
    "<a id=bck-rate-cat></a>\n",
    "#### 3.7.4 Back-click frequency impact on finishing the game"
   ]
  },
  {
   "cell_type": "markdown",
   "metadata": {},
   "source": [
    "Let's do a hypothesis test to see whether a higher back-click frequency is linked to whether or not the player will reach the target page.<br>\n",
    "More formally, we want to test whether the random variables $X$=*\"the player reaches the target\"* and $Y$=*\"interval of value for back-click frequency\"* are independant or not.\n",
    "\n",
    "For this purpose we will use a chi-squared test, with:\n",
    "- $H_0$: the probability of quitting and the probability of backclicking are independent\n",
    "- $H_1$: the probability of quitting and the probability of backclicking are not independent"
   ]
  },
  {
   "cell_type": "code",
   "execution_count": null,
   "metadata": {},
   "outputs": [],
   "source": [
    "intervals = [0, 0.0675, 0.125, 0.1875, 0.25, 0.5, 1]\n",
    "bck_an_all[\"backclick_freq_interval\"] = pd.cut(bck_an_all[\"backclick_freq\"], bins=intervals, include_lowest=True)\n",
    "\n",
    "contingency_table = pd.crosstab(bck_an_all[\"backclick_freq_interval\"], bck_an_all[\"finished\"])\n",
    "\n",
    "chi2, p, _, _ = stats.chi2_contingency(contingency_table)\n",
    "\n",
    "# Output the results\n",
    "print(\"Chi-squared statistic:\", chi2)\n",
    "print(\"P-value:\", p)\n",
    "alpha = 0.05\n",
    "if p < alpha:\n",
    "    print(\"\\n-> Reject the null hypothesis. There is a significant relationship.\")\n",
    "else:\n",
    "    print(\"\\n-> Fail to reject the null hypothesis. There is no significant relationship.\")\n"
   ]
  },
  {
   "cell_type": "code",
   "execution_count": null,
   "metadata": {},
   "outputs": [],
   "source": [
    "# TODO: add comment"
   ]
  },
  {
   "cell_type": "code",
   "execution_count": null,
   "metadata": {},
   "outputs": [],
   "source": [
    "# Aggregate the backclick rate for each player over all their games\n",
    "bck_an_all = bck_an_all.groupby(by=[\"hashedIpAddress\", \"finished\"])[\"backclick_freq\"].aggregate(\"mean\").reset_index()\n",
    "bck_an_all[\"backclick_freq_interval\"] = pd.cut(bck_an_all[\"backclick_freq\"], bins=intervals, include_lowest=True)\n",
    "\n",
    "contingency_table = pd.crosstab(bck_an_all[\"backclick_freq_interval\"], bck_an_all[\"finished\"])\n",
    "\n",
    "chi2, p, _, _ = stats.chi2_contingency(contingency_table)\n",
    "\n",
    "# Output the results\n",
    "print(\"Chi-squared statistic:\", chi2)\n",
    "print(\"P-value:\", p)\n",
    "alpha = 0.05\n",
    "if p < alpha:\n",
    "    print(\"\\n-> Reject the null hypothesis. There is a significant relationship.\")\n",
    "else:\n",
    "    print(\"\\n-> Fail to reject the null hypothesis. There is no significant relationship.\")"
   ]
  }
 ],
 "metadata": {
  "kernelspec": {
   "display_name": "ada",
   "language": "python",
   "name": "python3"
  },
  "language_info": {
   "codemirror_mode": {
    "name": "ipython",
    "version": 3
   },
   "file_extension": ".py",
   "mimetype": "text/x-python",
   "name": "python",
   "nbconvert_exporter": "python",
   "pygments_lexer": "ipython3",
   "version": "3.9.18"
  }
 },
 "nbformat": 4,
 "nbformat_minor": 2
}
