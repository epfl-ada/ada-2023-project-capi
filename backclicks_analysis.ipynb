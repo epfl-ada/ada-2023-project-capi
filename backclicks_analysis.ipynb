{
 "cells": [
  {
   "cell_type": "code",
   "execution_count": null,
   "metadata": {},
   "outputs": [],
   "source": [
    "import pandas as pd\n",
    "import networkx as nx\n",
    "import numpy as np\n",
    "import os\n",
    "import urllib\n",
    "import datetime as datetime\n",
    "import matplotlib.pyplot as plt\n",
    "import seaborn as sns\n",
    "from collections import Counter\n",
    "from scipy import stats \n",
    "\n",
    "# load config and extract variables\n",
    "import config\n",
    "DATA_PATH = config.PATH_TO_DATA"
   ]
  },
  {
   "cell_type": "markdown",
   "metadata": {},
   "source": [
    "### Loading and Preparing the Data\n",
    "Load and clean up the paths, load into weighted graph structure etc."
   ]
  },
  {
   "cell_type": "markdown",
   "metadata": {},
   "source": [
    "#### Load Data"
   ]
  },
  {
   "cell_type": "code",
   "execution_count": null,
   "metadata": {},
   "outputs": [],
   "source": [
    "# load in all data (except wikipedia articles)\n",
    "finished_paths = pd.read_csv(os.path.join(DATA_PATH, \"wikispeedia_paths-and-graph/paths_finished.tsv\"), sep='\\t', skiprows=15, names=[\"hashedIpAddress\", \"timestamp\", \"durationInSec\", \"path\", \"rating\"])\n",
    "unfinished_paths = pd.read_csv(os.path.join(DATA_PATH, \"wikispeedia_paths-and-graph/paths_unfinished.tsv\"), sep='\\t', skiprows=16, names=[\"hashedIpAddress\", \"timestamp\", \"durationInSec\", \"path\", \"target\", \"type\"])\n",
    "edges = pd.read_csv(os.path.join(DATA_PATH, \"wikispeedia_paths-and-graph/links.tsv\"), sep='\\t', skiprows=15, names=[\"start\", \"end\"], encoding=\"utf-8\")\n",
    "articles = pd.read_csv(os.path.join(DATA_PATH, \"wikispeedia_paths-and-graph/articles.tsv\"), sep='\\t', skiprows=12, names=[\"article\"], encoding=\"utf-8\")\n",
    "categories = pd.read_csv(os.path.join(DATA_PATH, \"wikispeedia_paths-and-graph/categories.tsv\"), sep='\\t', skiprows=13, names=[\"article\", \"category\"], encoding=\"utf-8\")\n",
    "shortest_paths = np.genfromtxt(os.path.join(DATA_PATH, \"wikispeedia_paths-and-graph/shortest-path-distance-matrix.txt\"), delimiter=1, dtype=np.uint8)"
   ]
  },
  {
   "cell_type": "markdown",
   "metadata": {},
   "source": [
    "#### Clean up"
   ]
  },
  {
   "cell_type": "code",
   "execution_count": null,
   "metadata": {},
   "outputs": [],
   "source": [
    "# Clean up edge list\n",
    "display(edges.head())\n",
    "edges[\"start\"] = edges.start.apply(urllib.parse.unquote)\n",
    "edges[\"end\"] = edges.end.apply(urllib.parse.unquote)\n",
    "display(edges.head())"
   ]
  },
  {
   "cell_type": "code",
   "execution_count": null,
   "metadata": {},
   "outputs": [],
   "source": [
    "# format datetime as datetime object\n",
    "finished_paths[\"datetime\"] = finished_paths.timestamp.apply(datetime.datetime.fromtimestamp)\n",
    "unfinished_paths[\"datetime\"] = unfinished_paths.timestamp.apply(datetime.datetime.fromtimestamp)\n",
    "display(unfinished_paths.head())"
   ]
  },
  {
   "cell_type": "code",
   "execution_count": null,
   "metadata": {},
   "outputs": [],
   "source": [
    "# clean up url encoding for articles\n",
    "display(articles.head())\n",
    "articles[\"article\"] = articles.article.apply(urllib.parse.unquote)\n",
    "display(articles.head())"
   ]
  },
  {
   "cell_type": "code",
   "execution_count": null,
   "metadata": {},
   "outputs": [],
   "source": [
    "# clean up url encoding for categories\n",
    "display(categories.head())\n",
    "categories[\"article\"] = categories.article.apply(urllib.parse.unquote)\n",
    "display(categories.head())"
   ]
  },
  {
   "cell_type": "code",
   "execution_count": null,
   "metadata": {},
   "outputs": [],
   "source": [
    "# merge articles and categories\n",
    "articles_categories = pd.merge(articles, categories, how=\"left\", on=\"article\")\n",
    "display(articles_categories.head())\n",
    "# 6 articles without category!\n",
    "print(\"Merge introduced {} NAs in category columns:\".format(articles_categories.category.isna().sum()))\n",
    "articles_categories[articles_categories.category.isna()]"
   ]
  },
  {
   "cell_type": "code",
   "execution_count": null,
   "metadata": {},
   "outputs": [],
   "source": [
    "# Convert paths to a readable format (lists)\n",
    "\n",
    "finished_paths_readable = finished_paths.copy()\n",
    "finished_paths_readable[\"readable_path\"] = finished_paths_readable[\"path\"].apply(lambda x: x.split(\";\"))\n",
    "finished_paths_readable[\"readable_path\"] = finished_paths_readable[\"readable_path\"].apply(lambda x: [urllib.parse.unquote(y) for y in x])\n",
    "\n",
    "unfinished_paths_readable = unfinished_paths.copy()\n",
    "unfinished_paths_readable[\"readable_path\"] = unfinished_paths_readable[\"path\"].apply(lambda x: x.split(\";\"))\n",
    "unfinished_paths_readable[\"readable_path\"] = unfinished_paths_readable[\"readable_path\"].apply(lambda x: [urllib.parse.unquote(y) for y in x])\n",
    "unfinished_paths_readable[\"target\"] = unfinished_paths_readable[\"target\"].apply(urllib.parse.unquote)"
   ]
  },
  {
   "cell_type": "code",
   "execution_count": null,
   "metadata": {},
   "outputs": [],
   "source": [
    "# functions to get all links between articles\n",
    "from itertools import tee\n",
    "def pairwise(iterable):\n",
    "    # from python docs - will be introduced in version 3.10\n",
    "    # pairwise('ABCDEFG') --> AB BC CD DE EF FG\n",
    "    a, b = tee(iterable)\n",
    "    next(b, None)\n",
    "    return zip(a, b)\n",
    "\n",
    "\n",
    "def get_all_links(df, path_colname=\"path\"):\n",
    "    edge_counter = {}\n",
    "    for _, row in df.iterrows():\n",
    "        links = row['path'].split(';')\n",
    "        \n",
    "        edges = list(pairwise(links))\n",
    "\n",
    "        for edge in edges:\n",
    "            if edge in edge_counter:\n",
    "                edge_counter[edge] += 1\n",
    "            else:\n",
    "                edge_counter[edge] = 1\n",
    "\n",
    "    out = pd.Series(edge_counter).reset_index()\n",
    "    out.columns = [\"source\", \"target\", \"weight\"]\n",
    "    return out\n",
    "\n"
   ]
  },
  {
   "cell_type": "code",
   "execution_count": null,
   "metadata": {},
   "outputs": [],
   "source": [
    "# get all finished links\n",
    "finished_links = get_all_links(finished_paths)\n",
    "finished_links.sort_values(by=\"weight\", ascending=False) # TODO: what is up with these <<< signs?\n"
   ]
  },
  {
   "cell_type": "code",
   "execution_count": null,
   "metadata": {},
   "outputs": [],
   "source": [
    "# get all unfinished links\n",
    "unfinished_links = get_all_links(unfinished_paths)\n",
    "unfinished_links.sort_values(by=\"weight\", ascending=False) # TODO: what is up with these <<< signs?\n"
   ]
  },
  {
   "cell_type": "code",
   "execution_count": null,
   "metadata": {},
   "outputs": [],
   "source": [
    "# create newtorkx graph from finished paths\n",
    "finished_graph = nx.from_pandas_edgelist(finished_links,source=\"source\", target=\"target\", edge_attr=\"weight\")\n",
    "hist = nx.degree_histogram(finished_graph)\n",
    "plt.bar(range(len(hist)), hist)\n",
    "pd.Series(hist).describe()"
   ]
  },
  {
   "cell_type": "code",
   "execution_count": null,
   "metadata": {},
   "outputs": [],
   "source": [
    "# create newtorkx graph from unfinished paths\n",
    "unfinished_graph = nx.from_pandas_edgelist(unfinished_links,source=\"source\", target=\"target\", edge_attr=\"weight\")\n",
    "hist = nx.degree_histogram(unfinished_graph)\n",
    "plt.bar(range(len(hist)), hist)\n",
    "pd.Series(hist).describe()"
   ]
  },
  {
   "cell_type": "code",
   "execution_count": null,
   "metadata": {},
   "outputs": [],
   "source": [
    "# Seeing which categories are most represented in articles\n",
    "\n",
    "broad_categories = categories.copy()\n",
    "broad_categories[\"broad_category\"] = broad_categories[\"category\"].apply(lambda x: x.split(\".\")[1])\n",
    "\n",
    "count_articles = broad_categories.groupby(\"broad_category\").size()\n",
    "\n",
    "print(\"Below shows how many articles each of the broad categories are represented by\")\n",
    "display(count_articles)"
   ]
  },
  {
   "cell_type": "code",
   "execution_count": null,
   "metadata": {},
   "outputs": [],
   "source": [
    "# Create dictionaries for easy discovery of what categories an article belongs to\n",
    "article_to_category = {}\n",
    "article_to_broad_category = {}\n",
    "for i in range(len(broad_categories)):\n",
    "    if broad_categories.iloc[i][\"article\"] in article_to_category:\n",
    "        article_to_category[broad_categories.iloc[i][\"article\"]].append(broad_categories.iloc[i][\"category\"])\n",
    "        article_to_broad_category[broad_categories.iloc[i][\"article\"]].append(broad_categories.iloc[i][\"broad_category\"])\n",
    "    else:\n",
    "        article_to_category[broad_categories.iloc[i][\"article\"]] = [broad_categories.iloc[i][\"category\"]]\n",
    "        article_to_broad_category[broad_categories.iloc[i][\"article\"]] = [broad_categories.iloc[i][\"broad_category\"]]"
   ]
  },
  {
   "cell_type": "markdown",
   "metadata": {},
   "source": [
    "# Backclick analysis"
   ]
  },
  {
   "cell_type": "code",
   "execution_count": null,
   "metadata": {},
   "outputs": [],
   "source": [
    "def backclick_lambda(l):\n",
    "    \"\"\"\n",
    "    Returns a list of all the pages that were backclicked on in a path l.\n",
    "    \"\"\"\n",
    "    if \"<\" in l:\n",
    "        s = []\n",
    "        res = []\n",
    "        for i in range(len(l)):\n",
    "            if l[i] == \"<\":\n",
    "                res.append(s.pop())\n",
    "            else:\n",
    "                s.append(l[i])\n",
    "        return res\n",
    "    else:\n",
    "        return pd.NA"
   ]
  },
  {
   "cell_type": "markdown",
   "metadata": {},
   "source": [
    "#### We define ***backclick rate*** of a player on a category, as the number of times that player has backclicked a page of that category, over the total number he/she visited pages of that category. Or in other words, the how likely that player is to backclick a page of that category"
   ]
  },
  {
   "cell_type": "code",
   "execution_count": null,
   "metadata": {},
   "outputs": [],
   "source": [
    "# Filter out data before 2011-02-07 (unfinished paths were not recorded)\n",
    "filtered_finished = finished_paths_readable[finished_paths_readable[\"datetime\"] >= unfinished_paths_readable.sort_values(by=\"datetime\").datetime[0]].copy()\n",
    "\n",
    "filtered_finished[\"backclicked_pages\"] = filtered_finished[\"readable_path\"].apply(lambda x: backclick_lambda(x))\n",
    "# NOTE: using all available categories per each page, not only the first\n",
    "filtered_finished[\"category_visits\"] = filtered_finished[\"readable_path\"].apply(lambda x: [article_to_broad_category[page][i] for page in x if page in article_to_broad_category.keys() for i in range(len(article_to_broad_category[page]))])\n",
    "filtered_finished[\"category_backclicks\"] = filtered_finished[\"backclicked_pages\"].apply(lambda x: [article_to_broad_category[page][i] for page in x if page in article_to_broad_category.keys() for i in range(len(article_to_broad_category[page]))]\n",
    "                                                                                                    if x is not pd.NA else pd.NA)\n",
    "filtered_finished = filtered_finished[[\"hashedIpAddress\", \"category_visits\", \"category_backclicks\"]]\n",
    "\n",
    "# Count the occurrences of each category for visited pages\n",
    "visited_counts = filtered_finished[[\"hashedIpAddress\", \"category_visits\"]].explode(\"category_visits\").groupby([\"hashedIpAddress\", \"category_visits\"]).size().reset_index(name=\"visited_count\")\n",
    "backclicked_counts = filtered_finished[[\"hashedIpAddress\", \"category_backclicks\"]].explode(\"category_backclicks\").groupby([\"hashedIpAddress\", \"category_backclicks\"]).size().reset_index(name=\"backclicked_counts\")\n",
    "\n",
    "finished_result = pd.merge(visited_counts, backclicked_counts, how=\"outer\", left_on=[\"hashedIpAddress\", \"category_visits\"], right_on=[\"hashedIpAddress\", \"category_backclicks\"])\n",
    "finished_result = finished_result[[\"hashedIpAddress\", \"category_visits\", \"visited_count\", \"backclicked_counts\"]].fillna(0)\n",
    "finished_result[\"rate\"] = finished_result[\"backclicked_counts\"] / finished_result[\"visited_count\"]\n",
    "\n",
    "finished_result = finished_result[[\"category_visits\", \"rate\"]].groupby(by=\"category_visits\").aggregate(\n",
    "    avg_rate=pd.NamedAgg(column=\"rate\", aggfunc=\"mean\"),\n",
    "    counts=pd.NamedAgg(column=\"rate\", aggfunc=\"count\"),\n",
    ").reset_index()\n",
    "finished_result[\"SE\"] = np.sqrt(finished_result[\"avg_rate\"] * (1 - finished_result[\"avg_rate\"]) / finished_result[\"counts\"])"
   ]
  },
  {
   "cell_type": "code",
   "execution_count": null,
   "metadata": {},
   "outputs": [],
   "source": [
    "# Filter out data before 2011-02-07 (ununfinished paths were not recorded)\n",
    "unfinished_cp = unfinished_paths_readable.copy()\n",
    "\n",
    "unfinished_cp[\"backclicked_pages\"] = unfinished_cp[\"readable_path\"].apply(lambda x: backclick_lambda(x))\n",
    "# NOTE: using all available categories per each page, not only the first\n",
    "unfinished_cp[\"category_visits\"] = unfinished_cp[\"readable_path\"].apply(lambda x: [article_to_broad_category[page][i] for page in x if page in article_to_broad_category.keys() for i in range(len(article_to_broad_category[page]))])\n",
    "unfinished_cp[\"category_backclicks\"] = unfinished_cp[\"backclicked_pages\"].apply(lambda x: [article_to_broad_category[page][i] for page in x if page in article_to_broad_category.keys() for i in range(len(article_to_broad_category[page]))]\n",
    "                                                                                                    if x is not pd.NA else pd.NA)\n",
    "unfinished_cp = unfinished_cp[[\"hashedIpAddress\", \"category_visits\", \"category_backclicks\"]]\n",
    "\n",
    "# Count the occurrences of each category for visited pages\n",
    "visited_counts = unfinished_cp[[\"hashedIpAddress\", \"category_visits\"]].explode(\"category_visits\").groupby([\"hashedIpAddress\", \"category_visits\"]).size().reset_index(name=\"visited_count\")\n",
    "backclicked_counts = unfinished_cp[[\"hashedIpAddress\", \"category_backclicks\"]].explode(\"category_backclicks\").groupby([\"hashedIpAddress\", \"category_backclicks\"]).size().reset_index(name=\"backclicked_counts\")\n",
    "\n",
    "unfinished_result = pd.merge(visited_counts, backclicked_counts, how=\"outer\", left_on=[\"hashedIpAddress\", \"category_visits\"], right_on=[\"hashedIpAddress\", \"category_backclicks\"])\n",
    "unfinished_result = unfinished_result[[\"hashedIpAddress\", \"category_visits\", \"visited_count\", \"backclicked_counts\"]].fillna(0)\n",
    "unfinished_result[\"rate\"] = unfinished_result[\"backclicked_counts\"] / unfinished_result[\"visited_count\"]\n",
    "\n",
    "unfinished_result = unfinished_result[[\"category_visits\", \"rate\"]].groupby(by=\"category_visits\").aggregate(\n",
    "    avg_rate=pd.NamedAgg(column=\"rate\", aggfunc=\"mean\"),\n",
    "    counts=pd.NamedAgg(column=\"rate\", aggfunc=\"count\"),\n",
    ").reset_index()\n",
    "unfinished_result[\"SE\"] = np.sqrt(unfinished_result[\"avg_rate\"] * (1 - unfinished_result[\"avg_rate\"]) / unfinished_result[\"counts\"])"
   ]
  },
  {
   "cell_type": "code",
   "execution_count": null,
   "metadata": {},
   "outputs": [],
   "source": [
    "merged_result = pd.merge(unfinished_result, finished_result, on='category_visits', suffixes=('_unfinished', '_finished'))\n",
    "merged_result.sort_values(by='avg_rate_unfinished', inplace=True, ascending=False)\n",
    "\n",
    "# Create a grouped bar chart with different colors\n",
    "plt.figure(figsize=(10, 6))\n",
    "\n",
    "bar_width = 0.4\n",
    "index = np.arange(len(merged_result['category_visits']))\n",
    "bar_positions_df1 = index - bar_width / 2\n",
    "bar_positions_df2 = index + bar_width / 2\n",
    "\n",
    "plt.bar(bar_positions_df1, merged_result['avg_rate_finished'], \n",
    "        yerr=merged_result['SE_finished'],\n",
    "        alpha=0.7, capsize=5, width=bar_width, label='Finished paths')\n",
    "\n",
    "plt.bar(bar_positions_df2, merged_result['avg_rate_unfinished'], \n",
    "        yerr=merged_result['SE_unfinished'],\n",
    "        alpha=0.7, capsize=5, width=bar_width, label='Unfinished paths', color='darkorange')\n",
    "\n",
    "plt.xlabel('Category')\n",
    "plt.ylabel('Backclick Rate')\n",
    "plt.xticks(index, merged_result['category_visits'], rotation=90)\n",
    "plt.legend()\n",
    "plt.title(\"Back-click rate per category with CI\")\n",
    "plt.savefig(\"img.png\", bbox_inches=\"tight\")\n",
    "plt.show()\n"
   ]
  },
  {
   "cell_type": "code",
   "execution_count": null,
   "metadata": {},
   "outputs": [],
   "source": [
    "# Plot the results as a bar chart with the copmute confidence intervals\n",
    "plt.figure(figsize=(10, 5))\n",
    "plt.bar(finished_result[\"category_visits\"], finished_result[\"avg_rate\"], color=plt.cm.tab20(range(15)))\n",
    "plt.errorbar(finished_result[\"category_visits\"], finished_result[\"avg_rate\"], finished_result[\"SE\"], fmt='none', ecolor='black', capsize=3)\n",
    "plt.xticks(rotation=90)\n",
    "plt.title(\"Back-click rate per category for finished paths\")\n",
    "plt.ylabel(\"Ratio of backclicks to visits\")\n",
    "plt.xlabel(\"Category\")\n",
    "plt.show()\n"
   ]
  },
  {
   "cell_type": "code",
   "execution_count": null,
   "metadata": {},
   "outputs": [],
   "source": [
    "# Plot the results as a bar chart with the copmute confidence intervals\n",
    "plt.figure(figsize=(10, 5))\n",
    "plt.bar(unfinished_result[\"category_visits\"], unfinished_result[\"avg_rate\"], color=plt.cm.tab20(range(15)))\n",
    "plt.errorbar(unfinished_result[\"category_visits\"], unfinished_result[\"avg_rate\"], unfinished_result[\"SE\"], fmt='none', ecolor='black', capsize=3)\n",
    "plt.xticks(rotation=90)\n",
    "plt.title(\"Back-click rate per category for unfinished paths\")\n",
    "plt.ylabel(\"Ratio of backclicks to visits\")\n",
    "plt.xlabel(\"Category\")\n",
    "plt.savefig(\"img2.png\", bbox_inches=\"tight\")\n",
    "plt.show()"
   ]
  },
  {
   "cell_type": "code",
   "execution_count": null,
   "metadata": {},
   "outputs": [],
   "source": []
  },
  {
   "cell_type": "code",
   "execution_count": null,
   "metadata": {},
   "outputs": [],
   "source": []
  }
 ],
 "metadata": {
  "kernelspec": {
   "display_name": "ada",
   "language": "python",
   "name": "python3"
  },
  "language_info": {
   "codemirror_mode": {
    "name": "ipython",
    "version": 3
   },
   "file_extension": ".py",
   "mimetype": "text/x-python",
   "name": "python",
   "nbconvert_exporter": "python",
   "pygments_lexer": "ipython3",
   "version": "3.9.18"
  }
 },
 "nbformat": 4,
 "nbformat_minor": 2
}
